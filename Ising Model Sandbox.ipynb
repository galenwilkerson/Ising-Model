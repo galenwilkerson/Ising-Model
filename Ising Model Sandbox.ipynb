{
 "cells": [
  {
   "cell_type": "markdown",
   "metadata": {
    "colab_type": "text",
    "id": "1VexrwVWLgW8"
   },
   "source": [
    "# Ising Model\n",
    "\n",
    "This is a 'sandbox', feel free to modify\n",
    "\n",
    "Galen Wilkerson\n",
    "\n",
    "\n",
    "Based on model by Uri Wilensky:\n",
    "\n",
    "http://ccl.northwestern.edu/netlogo/models/Ising"
   ]
  },
  {
   "cell_type": "markdown",
   "metadata": {
    "colab_type": "text",
    "id": "YbROesqWLgXC"
   },
   "source": [
    "# Setup and Functions"
   ]
  },
  {
   "cell_type": "code",
   "execution_count": 4,
   "metadata": {
    "code_folding": [],
    "colab": {
     "base_uri": "https://localhost:8080/",
     "height": 4309
    },
    "colab_type": "code",
    "id": "1f5F7TRfLgXH",
    "outputId": "f30cdb9d-77c3-48bd-8978-379d141763f3"
   },
   "outputs": [],
   "source": [
    "# install graph drawing and interaction libraries\n",
    "# !pip uninstall networkx -y\n",
    "# !pip install networkx==1.11\n",
    "\n",
    "# !pip install nxpd\n",
    "# !pip install ipywidgets\n",
    "# !apt-get install python-pydot\n",
    "\n",
    "import pandas as pd\n",
    "import numpy as np\n",
    "import math\n",
    "\n",
    "import sympy \n",
    "from sympy import *\n",
    "from sympy import Matrix\n",
    "from sympy.utilities.lambdify import lambdify, implemented_function\n",
    "from sympy import Function\n",
    "\n",
    "import networkx as nx\n",
    "\n",
    "import __future__\n",
    "import __init__\n",
    "\n",
    "%matplotlib inline\n",
    "\n",
    "import matplotlib.pylab as plt\n",
    "\n",
    "import warnings\n",
    "warnings.filterwarnings('ignore')\n",
    "\n",
    "from IPython.display import Latex\n",
    "\n",
    "#If you want all graphs to be drawn inline, then you can set a global parameter.\n",
    "from nxpd import draw\n",
    "from nxpd import nxpdParams\n",
    "nxpdParams['show'] = 'ipynb'\n",
    "\n",
    "import string\n",
    "\n",
    "from ipywidgets import Image\n",
    "#from IPython import display\n",
    "\n",
    "from ipywidgets import interact\n",
    "import ipywidgets as widgets\n",
    "\n",
    "from IPython.display import Math, HTML, display"
   ]
  },
  {
   "cell_type": "code",
   "execution_count": 296,
   "metadata": {
    "code_folding": [],
    "colab": {
     "base_uri": "https://localhost:8080/",
     "height": 4309
    },
    "colab_type": "code",
    "id": "1f5F7TRfLgXH",
    "outputId": "f30cdb9d-77c3-48bd-8978-379d141763f3"
   },
   "outputs": [],
   "source": [
    "class IsingModel2D():\n",
    "    \n",
    "    def __init__(self, height = 10, width = 10, randomize = True, temperature = 5, p = .5):\n",
    "        '''\n",
    "        initialize lattice and connections, store in networkx grid_2d_graph\n",
    "        '''\n",
    "        \n",
    "        self.height = height\n",
    "        self.width = width\n",
    "        \n",
    "        # the temperature is in [0,10]\n",
    "        self.temperature = temperature\n",
    "        \n",
    "        # the graph of connections\n",
    "        self.G = nx.grid_2d_graph(height, width)\n",
    "        \n",
    "        # the lattice of spins\n",
    "        value_dict = self.randomize(height, width, p)\n",
    "        nx.set_node_attributes(self.G, value_dict, 'spin')\n",
    "\n",
    "        # find the sum of spins and magnetization \n",
    "        self.magnetization()\n",
    "        \n",
    "        # set the node positions for drawing\n",
    "        self.position = {}\n",
    "        for i in range(height):\n",
    "            for j in range(width):\n",
    "                self.position[i,j] = (i/height,j/width)\n",
    "\n",
    "        nx.set_node_attributes(self.G, self.position, 'pos')\n",
    "\n",
    "        nx.set_node_attributes(self.G, 1, 'size')\n",
    "        nx.set_node_attributes(self.G, 'white', 'nodecolor')\n",
    "\n",
    "        \n",
    "    def randomize(self, height = 10, width = 10, p = .5):\n",
    "        '''\n",
    "        create random lattice spins\n",
    "        \n",
    "        inputs: height, width of lattice\n",
    "                p = probabilty of spin +1\n",
    "                \n",
    "        returns: dictionary of nodeids, spin values (strings)\n",
    "                 sets self.sum_spins = sum of spin values\n",
    "        '''\n",
    "\n",
    "        # create random spin values\n",
    "        spins = [+1, -1]\n",
    "        spin_lattice = np.random.choice(a = spins, size = [height,width], p=[p, 1-p]) \n",
    "                \n",
    "        # store the spin values in the graph        \n",
    "        value_dict = {}\n",
    "        \n",
    "        for i in range(spin_lattice.shape[0]):\n",
    "            for j in range(spin_lattice.shape[1]):\n",
    "                value_dict[(i,j)] = spin_lattice[i,j] \n",
    "            \n",
    "        return(value_dict)\n",
    "        \n",
    "            \n",
    "    def print_graph(self):\n",
    "        '''\n",
    "        print the lattice as a (height, width) box of spins\n",
    "        '''\n",
    "        \n",
    "        print(np.reshape(list(nx.get_node_attributes(ising.G, 'spin').values()), \n",
    "                         newshape = [self.height, self.width]))\n",
    "\n",
    "        \n",
    "    def draw_graph(self, title = \"Lattice\"):\n",
    "        '''\n",
    "        draw the graph of spins with lattice connections\n",
    "        '''\n",
    "        \n",
    "        \n",
    "        # create empty list for node colors\n",
    "        node_color = []\n",
    "\n",
    "        # for each node in the graph\n",
    "        for node in self.G.nodes(data=True):\n",
    "\n",
    "            # if the node has the attribute group1\n",
    "            if node[1]['spin'] == -1:\n",
    "                node_color.append('blue')\n",
    "\n",
    "            # if the node has the attribute group1\n",
    "            else:\n",
    "                node_color.append('red')\n",
    "\n",
    "        \n",
    "        \n",
    "        nx.draw(self.G, \n",
    "                self.position, \n",
    "                node_color=node_color, \n",
    "                edge_color='grey', \n",
    "                alpha=.3)#, \n",
    "                #node_size=20)\n",
    "        \n",
    "        # draw graph with node attribute color\n",
    "        #nx.draw(g, with_labels=False, node_size=25, node_color=node_color)\n",
    "\n",
    "        labels = nx.get_node_attributes(self.G, 'spin')\n",
    "        pos = nx.get_node_attributes(self.G, 'pos')\n",
    "        nx.draw_networkx_labels(self.G, pos=pos, labels=labels)\n",
    "        plt.title(title)\n",
    "        \n",
    "        plt.gca().set_aspect('equal', adjustable='box')\n",
    "        \n",
    "        \n",
    "\n",
    "    def draw_graphviz(self):\n",
    "        '''\n",
    "        draw graph using graphviz instead of matplotlib\n",
    "        \n",
    "        see nxpd documentation\n",
    "        '''\n",
    "        \n",
    "        # draw networkx graph with graphviz\n",
    "        im = draw(self.G)\n",
    "        im\n",
    "    \n",
    "    \n",
    "    def animate(self, height = 10, width = 10):\n",
    "        \n",
    "        # simple animation of changing spin bias\n",
    "\n",
    "        def updateAnimation(p = (0.01,1.00)):\n",
    "            # draw networkx graph with graphviz\n",
    "\n",
    "            self = IsingModel2D(height, width, p = p)\n",
    "            title = 'magnetization ' + str(self.magnetization())\n",
    "            self.draw_graph(title)\n",
    "\n",
    "        interact(updateAnimation);\n",
    "    \n",
    "    \n",
    "    def get_spin(self, i,j):\n",
    "        '''\n",
    "        get spin at i, j\n",
    "        '''\n",
    "        \n",
    "        return nx.get_node_attributes(self.G, 'spin')[(i,j)]\n",
    "    \n",
    "    \n",
    "    def get_neighbor_spins(self, i,j):\n",
    "        '''\n",
    "        get the spin values of neighbors of node i,j\n",
    "        '''\n",
    "        \n",
    "        n = self.G.neighbors(n=(i,j))\n",
    "        \n",
    "        results = []\n",
    "        for i1 in n:\n",
    "            results.append((self.get_spin(i1[0], i1[1])))\n",
    "        \n",
    "        return(results)\n",
    "    \n",
    "    \n",
    "    def get_ediff(self, i, j):\n",
    "        '''\n",
    "        calculate difference between spin at a node and spin of neighbors\n",
    "\n",
    "        ediff = 2 * my_spin * sum(spin_neighbors)\n",
    "\n",
    "        inputs: \n",
    "            coordinates of node\n",
    "        \n",
    "        returns:\n",
    "            ediff value for this coordinate\n",
    "            set self this graph node's ediff value\n",
    "            \n",
    "    \n",
    "        TODO:\n",
    "        edge case?\n",
    "        vectorize?\n",
    "\n",
    "        '''\n",
    "        \n",
    "        spin = self.get_spin(i,j)\n",
    "        spin_neighbors = self.get_neighbor_spins(i,j)\n",
    "        \n",
    "        \n",
    "        ediff = 2 * spin * np.sum(spin_neighbors)\n",
    "\n",
    "        self.G.node[i,j]['ediff'] = ediff\n",
    "    \n",
    "        return (ediff)\n",
    "    \n",
    "    \n",
    "    def magnetization(self):\n",
    "        '''\n",
    "        returns the average magnetization: sum of spins (magnetization) / lattice size\n",
    "        \n",
    "        for now, just use Juri Wilensky's magnetization nelogo model calculation\n",
    "        '''\n",
    "        \n",
    "        spins = np.array(list(nx.get_node_attributes(self.G, 'spin').values()))\n",
    "        self.sum_spins = spins.astype(int).sum()    \n",
    "        #print(self.sum_spins)\n",
    "        \n",
    "        return(self.sum_spins / (self.height * self.width))\n",
    "    \n",
    "    \n",
    "        \n",
    "    def update(self, temperature = 0):\n",
    "        '''\n",
    "        update each node's flip based on temperature and neighbor values\n",
    "        \n",
    "         if (Ediff <= 0) or (temperature > 0 and (random-float 1.0 < exp ((- Ediff) / temperature))) [\n",
    "        set spin (- spin)\n",
    "        set sum-of-spins sum-of-spins + 2 * spin\n",
    "        '''\n",
    "        \n",
    "        self.magnetization()\n",
    "        self.temperature = temperature\n",
    "        \n",
    "        for i in range(self.height):\n",
    "            for j in range(self.width):\n",
    "                \n",
    "                ediff = self.get_ediff(i,j)\n",
    "                p = np.e ** (- ediff / self.temperature)\n",
    "                randnum = np.random.rand()\n",
    "                \n",
    "                if ((ediff <= 0) or (self.temperature > 0 and randnum < p)):\n",
    "                    spin = self.G.node[i,j]['spin']\n",
    "                    self.G.node[i,j]['spin'] *= -1\n",
    "                    #self.sum_spins = self.sum_spins + 2 * spin\n",
    "        \n",
    "        \n",
    "\n",
    "    def runIsing(self):\n",
    "        '''\n",
    "        update the ising model flips based on the temperature\n",
    "        '''\n",
    "        \n",
    "        self = IsingModel2D()\n",
    "        \n",
    "        def updateAnimation(num_updates = (1,20), temperature = (0,10.0)):\n",
    "            # draw networkx graph with graphviz\n",
    "\n",
    "            for i in range(num_updates):\n",
    "                self.update(temperature)\n",
    "            \n",
    "            title = 'magnetization ' + str(self.magnetization())\n",
    "            self.draw_graph(title)\n",
    "\n",
    "        interact(updateAnimation);\n",
    "      \n",
    "        \n",
    "\n",
    "    "
   ]
  },
  {
   "cell_type": "markdown",
   "metadata": {},
   "source": [
    "## Create a 10 x 10 Ising model"
   ]
  },
  {
   "cell_type": "code",
   "execution_count": 297,
   "metadata": {},
   "outputs": [],
   "source": [
    "ising = IsingModel2D()"
   ]
  },
  {
   "cell_type": "code",
   "execution_count": 298,
   "metadata": {},
   "outputs": [
    {
     "name": "stdout",
     "output_type": "stream",
     "text": [
      "[[ 1 -1 -1  1  1 -1  1  1 -1 -1]\n",
      " [-1 -1 -1  1  1 -1 -1 -1  1  1]\n",
      " [-1  1 -1 -1 -1  1 -1  1  1 -1]\n",
      " [-1 -1  1  1  1 -1 -1  1  1 -1]\n",
      " [-1  1 -1  1  1  1  1 -1 -1  1]\n",
      " [-1  1 -1 -1 -1 -1 -1 -1 -1  1]\n",
      " [-1  1 -1  1  1  1  1  1  1  1]\n",
      " [-1 -1 -1 -1  1 -1 -1  1 -1  1]\n",
      " [ 1  1 -1 -1 -1  1  1 -1  1 -1]\n",
      " [-1 -1 -1 -1 -1 -1  1 -1 -1 -1]]\n"
     ]
    }
   ],
   "source": [
    "ising.print_graph()"
   ]
  },
  {
   "cell_type": "code",
   "execution_count": 299,
   "metadata": {},
   "outputs": [
    {
     "data": {
      "image/png": "[encoded data removed]",
      "text/plain": [
       "<Figure size 432x288 with 1 Axes>"
      ]
     },
     "metadata": {},
     "output_type": "display_data"
    }
   ],
   "source": [
    "ising.draw_graph()"
   ]
  },
  {
   "cell_type": "markdown",
   "metadata": {},
   "source": [
    "## Allow the user to change the bias toward +1 spin"
   ]
  },
  {
   "cell_type": "code",
   "execution_count": 301,
   "metadata": {},
   "outputs": [
    {
     "data": {
      "application/vnd.jupyter.widget-view+json": {
       "model_id": "ef3cdb3e15954c54ac150b831d3dd6f5",
       "version_major": 2,
       "version_minor": 0
      },
      "text/plain": [
       "interactive(children=(FloatSlider(value=0.505, description='p', max=1.0, min=0.01), Output()), _dom_classes=('…"
      ]
     },
     "metadata": {},
     "output_type": "display_data"
    }
   ],
   "source": [
    "ising.animate()"
   ]
  },
  {
   "cell_type": "markdown",
   "metadata": {},
   "source": [
    "## Allow user to change the temperature"
   ]
  },
  {
   "cell_type": "code",
   "execution_count": 302,
   "metadata": {},
   "outputs": [
    {
     "data": {
      "application/vnd.jupyter.widget-view+json": {
       "model_id": "914be404f10a4bac8d9c89c30fe6306f",
       "version_major": 2,
       "version_minor": 0
      },
      "text/plain": [
       "interactive(children=(FloatSlider(value=5.0, description='temp', max=10.0), Output()), _dom_classes=('widget-i…"
      ]
     },
     "metadata": {},
     "output_type": "display_data"
    }
   ],
   "source": [
    "ising.runIsing()"
   ]
  },
  {
   "cell_type": "code",
   "execution_count": null,
   "metadata": {},
   "outputs": [],
   "source": []
  }
 ],
 "metadata": {
  "colab": {
   "collapsed_sections": [],
   "name": "Markov_Process_Renormalization.ipynb",
   "provenance": [],
   "version": "0.3.2"
  },
  "kernelspec": {
   "display_name": "Python 3",
   "language": "python",
   "name": "python3"
  },
  "language_info": {
   "codemirror_mode": {
    "name": "ipython",
    "version": 3
   },
   "file_extension": ".py",
   "mimetype": "text/x-python",
   "name": "python",
   "nbconvert_exporter": "python",
   "pygments_lexer": "ipython3",
   "version": "3.6.5"
  }
 },
 "nbformat": 4,
 "nbformat_minor": 1
}
